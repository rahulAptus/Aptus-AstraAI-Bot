{
 "cells": [
  {
   "cell_type": "code",
   "execution_count": 210,
   "metadata": {},
   "outputs": [
    {
     "data": {
      "text/plain": [
       "True"
      ]
     },
     "execution_count": 210,
     "metadata": {},
     "output_type": "execute_result"
    }
   ],
   "source": [
    "\n",
    "from langchain_openai import ChatOpenAI\n",
    "# Loading the functions from the differnet scripts\n",
    "from scripts.llm_question_Answering import extract_docs_db, ASK_Question_On_Your_Documents\n",
    "from VECTOR_STORE.webscrapped_data_ingest import filter_website_content_and_save_vectorstore\n",
    "from langchain_core.runnables import RunnablePassthrough\n",
    "from langgraph.graph import MessagesState\n",
    "from langchain_core.messages import HumanMessage, SystemMessage,AIMessage\n",
    "from langchain_core.prompts import ChatPromptTemplate,MessagesPlaceholder,HumanMessagePromptTemplate\n",
    "from langgraph.graph import START, StateGraph, END\n",
    "from langgraph.prebuilt import tools_condition\n",
    "from langgraph.prebuilt import ToolNode\n",
    "from langchain_core.output_parsers import JsonOutputParser,StrOutputParser\n",
    "from IPython.display import Image, display, Markdown\n",
    "from langchain_openai import OpenAIEmbeddings\n",
    "from langchain_openai import ChatOpenAI\n",
    "from typing import TypedDict,Literal,List\n",
    "import operator\n",
    "\n",
    "\n",
    "import os\n",
    "\n",
    "\n",
    "\n",
    "from dotenv import load_dotenv\n",
    "\n",
    "load_dotenv(override=True)\n"
   ]
  },
  {
   "cell_type": "code",
   "execution_count": 4,
   "metadata": {},
   "outputs": [],
   "source": [
    "faiss_folder_path = \"./VECTOR_STORE/faiss_store\"\n",
    "model_name = \"gpt-4o\""
   ]
  },
  {
   "cell_type": "code",
   "execution_count": 7,
   "metadata": {},
   "outputs": [
    {
     "name": "stdout",
     "output_type": "stream",
     "text": [
      "[INFO]: Found the following faiss indexes in the ./VECTOR_STORE/faiss_store : [['db_Aptusdatalabs.faiss']]\n",
      "Loading index:  db_Aptusdatalabs\n",
      "[INFO]: Successfully loaded the vector store in the system\n"
     ]
    }
   ],
   "source": [
    "\n",
    "trigger = True\n",
    "if trigger == True:\n",
    "    # Loading the vectors in the environment\n",
    "    document_wise_dbs = extract_docs_db(faiss_folder_path)\n",
    "    print(\"[INFO]: Successfully loaded the vector store in the system\")"
   ]
  },
  {
   "cell_type": "code",
   "execution_count": 19,
   "metadata": {},
   "outputs": [],
   "source": [
    "llm = ChatOpenAI(model=model_name,\n",
    "                             temperature=0,\n",
    "                            max_tokens=None,\n",
    "                            timeout=None,\n",
    "                            max_retries=4)\n",
    "#llm.invoke(\"Hello there !!\"           )"
   ]
  },
  {
   "cell_type": "code",
   "execution_count": 118,
   "metadata": {},
   "outputs": [],
   "source": [
    "vectorstore = document_wise_dbs[0]\n",
    "retriever = vectorstore.as_retriever(\n",
    "                search_type=\"similarity_score_threshold\",\n",
    "                search_kwargs={\"score_threshold\": 0.5,\n",
    "                                \"k\": 3}    \n",
    "            )\n",
    "\n",
    "\n",
    "retriever2 = vectorstore.similarity_search_with_relevance_scores(query=query,k = 3)"
   ]
  },
  {
   "cell_type": "code",
   "execution_count": 134,
   "metadata": {},
   "outputs": [],
   "source": [
    "chattemplate = ChatPromptTemplate.from_messages(\n",
    "    [SystemMessage(\n",
    "        content=\"\"\"You are a chatbot for aptus data labs that answer following question from given context\"\"\"\n",
    "    ),\n",
    "    MessagesPlaceholder(\"chat_history\"),\n",
    "    HumanMessagePromptTemplate.from_template(\"\"\"question: {query}\\n\\n context: {context}\"\"\")\n",
    "    ]\n",
    ")"
   ]
  },
  {
   "cell_type": "code",
   "execution_count": 106,
   "metadata": {},
   "outputs": [],
   "source": [
    "retrieval_chain = (\n",
    "    {\"context\": retriever,\"query\": RunnablePassthrough()}\n",
    "    |chattemplate\n",
    "    |llm\n",
    ")"
   ]
  },
  {
   "cell_type": "code",
   "execution_count": 115,
   "metadata": {},
   "outputs": [
    {
     "data": {
      "text/plain": [
       "AIMessage(content=\"The document is about a case study by Aptus Data Labs, focusing on extracting valuable metadata using AI-powered text analytics for document management. It details how Aptus Data Labs developed an AI-based Latent Dirichlet Allocation (LDA) model to efficiently mine metadata for a world-leading contract and document management firm. The document outlines the business challenge, the approach taken by Aptus Data Labs, the tools used, and the impact of the solution, which resulted in an 85% accuracy and a 6% improvement in operational efficiency for the client. Additionally, it provides information about Aptus Data Labs' services, platforms, and contact details.\", additional_kwargs={'refusal': None}, response_metadata={'token_usage': {'completion_tokens': 130, 'prompt_tokens': 4869, 'total_tokens': 4999, 'prompt_tokens_details': {'cached_tokens': 0}, 'completion_tokens_details': {'reasoning_tokens': 0}}, 'model_name': 'gpt-4o-2024-08-06', 'system_fingerprint': 'fp_6b68a8204b', 'finish_reason': 'stop', 'logprobs': None}, id='run-4013b2d7-5006-42a9-b4d9-ba131fbcac22-0', usage_metadata={'input_tokens': 4869, 'output_tokens': 130, 'total_tokens': 4999})"
      ]
     },
     "execution_count": 115,
     "metadata": {},
     "output_type": "execute_result"
    }
   ],
   "source": [
    "query = \"What is document about\"\n",
    "retrieval_chain.invoke(query)"
   ]
  },
  {
   "cell_type": "code",
   "execution_count": 28,
   "metadata": {},
   "outputs": [
    {
     "name": "stdout",
     "output_type": "stream",
     "text": [
      "[INF0]: Successfully extracted the relevant chunks for answer generation\n",
      "[INFO]: No of chunks extracted: 6\n",
      "[INFO]: Generating answer to the given query.\n"
     ]
    }
   ],
   "source": [
    "user_query = query\n",
    "ans =  ASK_Question_On_Your_Documents(user_query, document_wise_dbs, model_name) \n",
    "        "
   ]
  },
  {
   "cell_type": "code",
   "execution_count": 38,
   "metadata": {},
   "outputs": [
    {
     "data": {
      "text/plain": [
       "{'chatbot_response': 'The company in question is **Aptus Data Labs**.',\n",
       " 'sources': ['https://aptusdatalabs.com/features/',\n",
       "  'https://aptusdatalabs.com/sign-in/',\n",
       "  'https://aptusdatalabs.com/sign-up/',\n",
       "  'https://aptusdatalabs.com/cash-flow-projections-for-a-consumer-financing-and-loan-servicing-company-in-the-usa/',\n",
       "  'https://aptusdatalabs.com/maximizing-customer-value-for-customer-segmentation-and-lifetime-value-prediction/',\n",
       "  'https://aptusdatalabs.com/job_type/part-time/']}"
      ]
     },
     "execution_count": 38,
     "metadata": {},
     "output_type": "execute_result"
    }
   ],
   "source": [
    "ans\n"
   ]
  },
  {
   "cell_type": "code",
   "execution_count": 75,
   "metadata": {},
   "outputs": [],
   "source": [
    "from langgraph.checkpoint.memory import MemorySaver\n",
    "from langgraph.graph import MessagesState\n",
    "from langchain_core.messages import HumanMessage, SystemMessage\n",
    "from langgraph.graph import START, StateGraph\n",
    "from langgraph.prebuilt import tools_condition\n",
    "from langgraph.prebuilt import ToolNode\n",
    "from IPython.display import Image, display\n"
   ]
  },
  {
   "cell_type": "code",
   "execution_count": 211,
   "metadata": {},
   "outputs": [],
   "source": [
    "# agentemplate = ChatPromptTemplate.from_messages(\n",
    "#     [SystemMessage(\n",
    "#         content=\"\"\"\n",
    "#         You are an intelligent assistant for an IT/Service company named aptus data labs. \n",
    "#         Your task is to decide whether the given query should be sent to RAG node or to answer directly using below tool give output in JSON format\n",
    "\n",
    "#         Output_format: {}\n",
    "        \n",
    "        \n",
    "#         Instructions:\n",
    "#         1. Think Step-by-step\n",
    "#         2. Give binary choice \"RAG\" or \"Answer\"\n",
    "#         \"\"\"\n",
    "#     ),\n",
    "#     HumanMessagePromptTemplate.from_template(\"\"\"question: {query}\"\"\")\n",
    "#     ]\n",
    "#     )\n",
    "\n",
    "# chain = agentemplate|llm|JsonOutputParser()\n"
   ]
  },
  {
   "cell_type": "code",
   "execution_count": 214,
   "metadata": {},
   "outputs": [],
   "source": [
    "# chain.invoke(\"Who is the CEO of company\")"
   ]
  },
  {
   "cell_type": "code",
   "execution_count": 215,
   "metadata": {},
   "outputs": [],
   "source": [
    "\n",
    "# def agent(state: MessagesState):\n",
    "\n",
    "#     messages = state[\"messages\"]\n",
    "#     last_message = messages[-1]\n",
    "#     print(last_message)\n",
    "\n",
    "#     agentemplate = ChatPromptTemplate.from_messages(\n",
    "#     [SystemMessage(\n",
    "#         content=\"\"\"\n",
    "#         You are an intelligent assistant for an IT/Service company named aptus data labs. \n",
    "#         Your task is to decide whether the given query should be sent to RAG node or to answer directly using below tool\n",
    "        \n",
    "#         tools names : decide\n",
    "        \n",
    "#         Instructions:\n",
    "#         1. Think Step-by-step\n",
    "#         \"\"\"\n",
    "#     ),\n",
    "#     HumanMessagePromptTemplate.from_template(\"\"\"question: {query}\"\"\")\n",
    "#     ]\n",
    "#     )\n",
    "\n",
    "#     chain = agentemplate|llm_w_tools\n",
    "\n",
    "#     return {\"messages\": chain.invoke(last_message.content)}\n",
    "\n",
    "\n",
    "\n",
    "def RAG(state: MessagesState):\n",
    "\n",
    "    messages = state[\"messages\"]\n",
    "    last_message = messages[-1]\n",
    "    print(last_message)\n",
    "\n",
    "    chattemplate = ChatPromptTemplate.from_messages(\n",
    "        [SystemMessage(\n",
    "            content=\"\"\"You are a chatbot for aptus data labs that answer following question from given context\"\"\"\n",
    "        ),\n",
    "        MessagesPlaceholder(\"chat_history\"),\n",
    "        HumanMessagePromptTemplate.from_template(\"\"\"question: {query}\\n\\n context: {context}\"\"\")\n",
    "        ]\n",
    "    )\n",
    "    \n",
    "    retrieval_chain = (\n",
    "    {\"context\": operator.itemgetter(\"query\")|retriever,\n",
    "     \"query\": operator.itemgetter(\"query\"),\n",
    "     \"chat_history\": operator.itemgetter(\"chat_history\")\n",
    "     }\n",
    "    |chattemplate\n",
    "    |llm\n",
    "    )\n",
    "\n",
    "    return {\"messages\": retrieval_chain.invoke({\"query\": last_message.content,\n",
    "                                                \"chat_history\":messages }\n",
    "                                                )\n",
    "            }\n"
   ]
  },
  {
   "cell_type": "markdown",
   "metadata": {},
   "source": [
    "start --> RAG ---> end\n",
    "\n",
    "\n",
    "start --> assistant ---> RAG ---> end\n"
   ]
  },
  {
   "cell_type": "code",
   "execution_count": 216,
   "metadata": {},
   "outputs": [
    {
     "data": {
      "image/jpeg": "[encoded data removed]",
      "text/plain": [
       "<IPython.core.display.Image object>"
      ]
     },
     "metadata": {},
     "output_type": "display_data"
    }
   ],
   "source": [
    "builder = StateGraph(MessagesState)\n",
    "\n",
    "# define the nodes\n",
    "builder.add_node(\"RAG\", RAG)\n",
    "# define the edges: these determine how the control flow moves\n",
    "builder.add_edge(START, \"RAG\")\n",
    "builder.add_edge(\"RAG\", END)\n",
    "\n",
    "\n",
    "memory = MemorySaver()\n",
    "react_graph = builder.compile(checkpointer=memory)\n",
    "\n",
    "# Show\n",
    "display(Image(react_graph.get_graph(xray=True).draw_mermaid_png()))\n",
    "\n"
   ]
  },
  {
   "cell_type": "code",
   "execution_count": 217,
   "metadata": {},
   "outputs": [
    {
     "name": "stdout",
     "output_type": "stream",
     "text": [
      "content='What is document about?' id='7a2e03ca-f21c-41e6-ad2b-bf8747a9021c'\n"
     ]
    },
    {
     "data": {
      "text/plain": [
       "{'messages': [HumanMessage(content='What is document about?', id='7a2e03ca-f21c-41e6-ad2b-bf8747a9021c'),\n",
       "  AIMessage(content=\"The document is about various case studies and insights related to Aptus Data Labs' expertise in data science and AI solutions. It includes specific examples such as extracting valuable metadata using AI-powered text analytics for document management, a guide to generative AI, and achieving low-latency API-based queries with MongoDB. The document highlights the company's tailored solutions, services, and platforms, emphasizing their role in transforming data into actionable insights and improving business outcomes. It also provides information about the company's services, platforms, and contact details.\", additional_kwargs={'refusal': None}, response_metadata={'token_usage': {'completion_tokens': 104, 'prompt_tokens': 5691, 'total_tokens': 5795, 'prompt_tokens_details': {'cached_tokens': 0}, 'completion_tokens_details': {'reasoning_tokens': 0}}, 'model_name': 'gpt-4o-2024-08-06', 'system_fingerprint': 'fp_6b68a8204b', 'finish_reason': 'stop', 'logprobs': None}, id='run-59b9571b-b101-481f-86dc-e4ac9895d3ad-0', usage_metadata={'input_tokens': 5691, 'output_tokens': 104, 'total_tokens': 5795})]}"
      ]
     },
     "execution_count": 217,
     "metadata": {},
     "output_type": "execute_result"
    }
   ],
   "source": [
    "user_query = \"What is document about?\"\n",
    "config = {\"configurable\": {\"thread_id\": \"abc123\"}}\n",
    "\n",
    "\n",
    "react_graph.invoke({\"messages\":HumanMessage(content=user_query)},config)\n",
    "\n"
   ]
  },
  {
   "cell_type": "code",
   "execution_count": 156,
   "metadata": {},
   "outputs": [
    {
     "data": {
      "text/plain": [
       "[HumanMessage(content='What is document about?', id='caabcbf8-2daf-4454-8930-23f729e51e71'),\n",
       " AIMessage(content=\"The document is about various case studies and insights related to Aptus Data Labs' expertise in data science and AI solutions. It includes specific case studies such as extracting valuable metadata using AI-powered text analytics for document management, achieving low-latency API-based queries with MongoDB, and a guide to Generative AI. The document highlights Aptus Data Labs' services, platforms, and their approach to leveraging advanced technology to transform data into actionable insights, improve business outcomes, and enhance operational efficiency. It also provides information about the company's offerings, such as advisory services, data engineering, cloud solutions, AI and analytics, and more.\", additional_kwargs={'refusal': None}, response_metadata={'token_usage': {'completion_tokens': 125, 'prompt_tokens': 5691, 'total_tokens': 5816, 'prompt_tokens_details': {'cached_tokens': 0}, 'completion_tokens_details': {'reasoning_tokens': 0}}, 'model_name': 'gpt-4o-2024-08-06', 'system_fingerprint': 'fp_6b68a8204b', 'finish_reason': 'stop', 'logprobs': None}, id='run-cc8b12ec-883d-4628-98cf-8eb8adefd33a-0', usage_metadata={'input_tokens': 5691, 'output_tokens': 125, 'total_tokens': 5816})]"
      ]
     },
     "execution_count": 156,
     "metadata": {},
     "output_type": "execute_result"
    }
   ],
   "source": [
    "react_graph.get_state(config).values[\"messages\"]"
   ]
  },
  {
   "cell_type": "code",
   "execution_count": 207,
   "metadata": {},
   "outputs": [],
   "source": [
    "### Reactr\n",
    "def reasoner(state: MessagesState):\n",
    "    \n",
    "    chain = llm_with_tools\n",
    "    output = chain.invoke([sys_msg]+state[\"messages\"])\n",
    "    messages = state[\"messages\"]\n",
    "    last_message = messages[-1]\n",
    "    print(last_message)\n",
    "\n",
    "    # prefix = \"Final_Answer \\n\"+ output.content\n",
    "    # output.content = prefix\n",
    "    return {\"messages\": output}\n",
    "\n",
    "\n",
    "def should_continue(state: MessagesState) -> Literal[\"tools\",\"format_output\",\"__end__\"]:\n",
    "    messages = state[\"messages\"]\n",
    "    last_message = messages[-1]\n",
    "    if last_message.tool_calls:\n",
    "        return \"tools\"\n",
    "    try:\n",
    "        if \"FINAL ANSWER\" in last_message.content:\n",
    "            # Any agent decided the work is done\n",
    "            return \"format_output\"\n",
    "    except Exception as e:\n",
    "        print(f\"[ERROR]: Exception ====> {e} **should_continue**\")\n",
    "        return \"__end__\"\n",
    "\n",
    "def format_output(state: MessagesState):\n",
    "    last_message = state[\"messages\"][-1]\n",
    "    try:\n",
    "        op = last_message.content.split(\"```\")\n",
    "        final_op =op[1].split(\"\\n\",1)[1]\n",
    "        # print(final_op)\n",
    "        # result = AIMessage(content=final_op)\n",
    "        return {\"messages\": AIMessage(content=final_op)}\n",
    "    except Exception as e:\n",
    "        print(f\"Excpetion occured ==== {e} **format_output**\")\n",
    "        return state\n",
    "\n",
    "# Graph\n",
    "builder = StateGraph(MessagesState)\n",
    "\n",
    "# Add nodes\n",
    "# builder.add_node(\"clusters\", identify_clusters)\n",
    "builder.add_node(\"reasoner\", reasoner)\n",
    "builder.add_node(\"tools\", ToolNode(tools)) # for the tools\n",
    "builder.add_node(\"format_output\", format_output)\n",
    "\n",
    "# Add edges\n",
    "builder.add_edge(START,\"reasoner\")\n",
    "builder.add_conditional_edges(\n",
    "    \"reasoner\",\n",
    "    should_continue, # should_continue\n",
    "    {\"tools\":\"tools\",\"format_output\":\"format_output\",\"__end__\":END}\n",
    ")\n",
    "builder.add_edge(\"tools\", \"reasoner\")\n",
    "builder.add_edge(\"format_output\", END)\n",
    "react_graph = builder.compile()\n"
   ]
  },
  {
   "cell_type": "code",
   "execution_count": 208,
   "metadata": {},
   "outputs": [
    {
     "data": {
      "image/jpeg": "[encoded data removed]",
      "text/plain": [
       "<IPython.core.display.Image object>"
      ]
     },
     "metadata": {},
     "output_type": "display_data"
    }
   ],
   "source": [
    "display(Image(react_graph.get_graph(xray=True).draw_mermaid_png()))"
   ]
  }
 ],
 "metadata": {
  "kernelspec": {
   "display_name": "aptuswebsiteChat",
   "language": "python",
   "name": "python3"
  },
  "language_info": {
   "codemirror_mode": {
    "name": "ipython",
    "version": 3
   },
   "file_extension": ".py",
   "mimetype": "text/x-python",
   "name": "python",
   "nbconvert_exporter": "python",
   "pygments_lexer": "ipython3",
   "version": "3.10.15"
  }
 },
 "nbformat": 4,
 "nbformat_minor": 2
}

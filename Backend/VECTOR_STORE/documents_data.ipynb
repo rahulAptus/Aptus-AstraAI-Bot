{
 "cells": [
  {
   "cell_type": "code",
   "execution_count": null,
   "metadata": {
    "vscode": {
     "languageId": "plaintext"
    }
   },
   "outputs": [],
   "source": [
    "Script flow:\n",
    "Document folder containing the files and the debug folder containing the parsed textract response\n",
    "When I re-run the create document embeddings the new file if not present in the debug is parsed to textract, the response is added to the debug and the vector store is updated with this document"
   ]
  },
  {
   "cell_type": "markdown",
   "metadata": {},
   "source": [
    "### Script Flow\n",
    "\n",
    "#### For Document Store\n",
    "- **Current Process**:  \n",
    "  - <span style=\"color:blue;\">A document folder contains the files, and a debug folder holds the parsed Textract responses.</span>  \n",
    "  - When the \"Create Document Embeddings\" script is re-run:  \n",
    "    - <span style=\"color:red;\">Any new file not already in the debug folder is parsed using Textract.</span>  \n",
    "    - The response is saved in the debug folder.  \n",
    "    - The vector store is updated with this document.  \n",
    "\n",
    "- **Future Process**:  \n",
    "  - <span style=\"color:red;\">The pipeline will automatically run whenever there is an upload in the S3 bucket.</span>  \n",
    "  - <span style=\"color:blue;\">The vector store will be updated in Pinecone seamlessly.</span>  \n",
    "\n",
    "#### For Website\n",
    "- <span style=\"color:blue;\">The website's vector database is updated periodically.</span>  \n",
    "- This update is triggered by re-running the web scraping process, ensuring the vector store remains up-to-date.\n",
    "\n",
    "#### For Real-Time Information\n",
    "- <span style=\"color:red;\">User inputs, such as a company's LinkedIn handle or other social media handles, will be used to fetch and update real-time information.</span>\n"
   ]
  }
 ],
 "metadata": {
  "language_info": {
   "name": "python"
  }
 },
 "nbformat": 4,
 "nbformat_minor": 2
}
